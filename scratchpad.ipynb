{
 "cells": [
  {
   "cell_type": "code",
   "execution_count": 2,
   "metadata": {},
   "outputs": [],
   "source": [
    "import datetime\n",
    "import json\n",
    "from bs4 import BeautifulSoup\n",
    "import requests\n",
    "from dataclasses import dataclass, field "
   ]
  },
  {
   "cell_type": "code",
   "execution_count": 3,
   "metadata": {},
   "outputs": [],
   "source": [
    "class Holiday:\n",
    "      \n",
    "    def __init__(self,name, date):\n",
    "        pass\n",
    "        #Your Code Here        \n",
    "    \n",
    "    def __str__ (self):\n",
    "        pass\n",
    "        # String output\n",
    "        # Holiday output when printed."
   ]
  },
  {
   "cell_type": "code",
   "execution_count": 4,
   "metadata": {},
   "outputs": [],
   "source": [
    "@dataclass \n",
    "class Holiday:\n",
    "    name: str \n",
    "    date: datetime \n",
    "\n",
    "    def __str__(self):\n",
    "        return f'{self.name} is on {self.date}'\n"
   ]
  },
  {
   "cell_type": "code",
   "execution_count": 5,
   "metadata": {},
   "outputs": [],
   "source": [
    "@dataclass\n",
    "class HolidayList:\n",
    "    innerHolidays: list\n",
    "\n",
    "    def addHoliday(self, holidayObj):\n",
    "        if isinstance(holidayObj, Holiday):\n",
    "            self.innerHolidays.append(holidayObj)\n",
    "            print(\"The Holiday was added to the list\")\n",
    "        else:\n",
    "            print(\"Error: That is not a Holiday object\")\n",
    "\n",
    "    def findHoliday(self, name, date):\n",
    "        for holiday in self.innerHolidays:\n",
    "            if holiday.HolidayName == name and holiday.date == date:\n",
    "                return holiday \n",
    "            return None \n",
    "        \n",
    "\n",
    "    "
   ]
  },
  {
   "cell_type": "code",
   "execution_count": null,
   "metadata": {},
   "outputs": [],
   "source": [
    "code code code code "
   ]
  },
  {
   "cell_type": "code",
   "execution_count": null,
   "metadata": {},
   "outputs": [],
   "source": []
  }
 ],
 "metadata": {
  "kernelspec": {
   "display_name": "base",
   "language": "python",
   "name": "python3"
  },
  "language_info": {
   "codemirror_mode": {
    "name": "ipython",
    "version": 3
   },
   "file_extension": ".py",
   "mimetype": "text/x-python",
   "name": "python",
   "nbconvert_exporter": "python",
   "pygments_lexer": "ipython3",
   "version": "3.9.13 (main, Aug 25 2022, 23:51:50) [MSC v.1916 64 bit (AMD64)]"
  },
  "orig_nbformat": 4,
  "vscode": {
   "interpreter": {
    "hash": "4f831df608aecc0293d9af79acc0799bdf4d9356f054bef271c097361b58600a"
   }
  }
 },
 "nbformat": 4,
 "nbformat_minor": 2
}
